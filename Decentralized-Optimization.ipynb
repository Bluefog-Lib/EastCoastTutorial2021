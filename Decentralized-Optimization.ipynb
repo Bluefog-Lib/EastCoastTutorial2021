{
 "cells": [
  {
   "cell_type": "markdown",
   "id": "grand-library",
   "metadata": {},
   "source": [
    "# 2. Decentralized Optimizaiton\n",
    "\n",
    "## 2.1 Decentralized ADMM\n",
    "\n",
    "Continue on the centralized ADMM algorithm. We consider the same consensus problem:\n",
    "$$\n",
    "    \\min_{x} \\sum_{i} f_i(x)\n",
    "$$\n",
    "Instead of relaxing $x$ into $\\{x_i\\}$ and forcing them to be the common value $y$, we can map it into a graph structure. More percisely, assigning $f_i$ into each vertex and relaxing the common $x$ by $\\{x_i\\}$ owned by each vertex. The constraint of $x_i = x_j$ can be transfered into constrain on the edge:\n",
    "\n",
    "\\begin{align}\n",
    "    \\min_{\\{x_i\\}_{i\\in V},\\; \\{y_e\\}_{e\\in E} }&\\;\\; \\sum_{i} f_i(x_i)\\\\\n",
    "    {\\rm subject\\ to} &\\;\\; x_i - y_e=0,\\;  x_j - y_e=0, \\;\\;\\forall e={i,j} \\in E\n",
    "\\end{align}\n",
    "\n",
    "As long as the graph is connected, it is easy to see it is equivalent to original consenus problem.\n",
    "\n",
    "To solve this, we consider the augmented Lagrangian and the dual variables $u_{e,i}$ for $x_i - y_e=0$ and $u_{e,j}$ for $x_j - y_e=0$. After applying the ADMM algorithm and simplifying, we obtain\n",
    "\n",
    "\\begin{align}\n",
    "    x_{i}^{k+1} =& {\\rm Prox}_{(\\alpha |N_i|)^{-1} f_i(x_i)} (v_i^k)\\\\\n",
    "    \\alpha_{i}^{k+1} =& \\frac{1}{2} x_i + \\frac{1}{2|N_i|} \\sum_{j\\in N_i} x_j^{k+1}\\\\\n",
    "    v_{i}^{k+1} =& v_{i}^{k} + \\alpha_{i}^{k+1} - \\alpha_{i}^{k}\n",
    "\\end{align}"
   ]
  },
  {
   "cell_type": "markdown",
   "id": "legislative-great",
   "metadata": {},
   "source": [
    "The code snippet:\n",
    "```python\n",
    "def DecentralizedADMMStepL2(A, b, x, a, v, n_i, alpha):\n",
    "    next_x = ProximalStepL2(A, b, v, n_i, alpha)\n",
    "    # <-- this is the key difference. Chaning from allreduce to neighbor_allreduce --\n",
    "    neighbor_weights = {r: 0.5 / n_i for r in bf.in_neighbor_ranks()}\n",
    "    next_a = bf.neighbor_allreduce(\n",
    "        next_x, self_weight=0.5, neighbor_weights=neighbor_weights\n",
    "    )   \n",
    "    next_v = v + next_a - a\n",
    "    return next_x, next_a, next_v\n",
    "```"
   ]
  },
  {
   "cell_type": "code",
   "execution_count": null,
   "id": "ready-return",
   "metadata": {},
   "outputs": [],
   "source": []
  }
 ],
 "metadata": {
  "kernelspec": {
   "display_name": "Python 3",
   "language": "python",
   "name": "python3"
  },
  "language_info": {
   "codemirror_mode": {
    "name": "ipython",
    "version": 3
   },
   "file_extension": ".py",
   "mimetype": "text/x-python",
   "name": "python",
   "nbconvert_exporter": "python",
   "pygments_lexer": "ipython3",
   "version": "3.7.9"
  }
 },
 "nbformat": 4,
 "nbformat_minor": 5
}
